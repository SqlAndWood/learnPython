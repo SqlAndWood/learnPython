{
 "cells": [
  {
   "cell_type": "code",
   "execution_count": 1,
   "metadata": {},
   "outputs": [
    {
     "data": {
      "text/html": [
       "<style>.container { width:100% !important; }</style>"
      ],
      "text/plain": [
       "<IPython.core.display.HTML object>"
      ]
     },
     "metadata": {},
     "output_type": "display_data"
    }
   ],
   "source": [
    "from IPython.core.display import display, HTML\n",
    "display(HTML(\"<style>.container { width:100% !important; }</style>\"))"
   ]
  },
  {
   "cell_type": "code",
   "execution_count": null,
   "metadata": {},
   "outputs": [],
   "source": [
    "#Clear all variables from memory, Do not run unless you want to remove all memory.\n",
    "from IPython import get_ipython;   \n",
    "get_ipython().magic('reset -sf')"
   ]
  },
  {
   "cell_type": "code",
   "execution_count": 2,
   "metadata": {},
   "outputs": [],
   "source": [
    "\n",
    "import pandas as pd\n",
    "#pd.set_option('display.max_rows', 500)\n",
    "#pd.set_option('display.max_columns', 500)\n",
    "pd.set_option('display.width', 140)"
   ]
  },
  {
   "cell_type": "code",
   "execution_count": 3,
   "metadata": {},
   "outputs": [
    {
     "name": "stdout",
     "output_type": "stream",
     "text": [
      "Variable   Type        Data/Info\n",
      "--------------------------------\n",
      "HTML       type        <class 'IPython.core.display.HTML'>\n",
      "debug      str         true\n",
      "display    function    <function display at 0x000001BD935CFAE8>\n",
      "pd         module      <module 'pandas' from 'c:<...>es\\\\pandas\\\\__init__.py'>\n"
     ]
    }
   ],
   "source": [
    "debug = 'true'\n",
    "%whos"
   ]
  },
  {
   "cell_type": "code",
   "execution_count": 4,
   "metadata": {},
   "outputs": [
    {
     "name": "stdout",
     "output_type": "stream",
     "text": [
      "Empty DataFrame\n",
      "Columns: [PSLK, 201207, 201208, 201209, 201210, 201211, 201212, 201301, 201302, 201303, 201304, 201305, 201306, 201307, 201308, 201309, 201310, 201311, 201312, 201401, 201402, 201403, 201404, 201405, 201406]\n",
      "Index: []\n",
      "\n",
      "[0 rows x 25 columns]\n"
     ]
    }
   ],
   "source": [
    "import tkinter as tk\n",
    "from tkinter import filedialog\n",
    "import pandas as pd\n",
    "\n",
    "#import sys\n",
    "#import matplotlib as plt\n",
    "\n",
    "root= tk.Tk()\n",
    "\n",
    "canvas1 = tk.Canvas(root, width = 300, height = 300, bg = 'lightsteelblue')\n",
    "canvas1.pack()\n",
    "\n",
    "def getExcel ():\n",
    "    global df\n",
    "    \n",
    "    import_file_path = filedialog.askopenfilename()\n",
    "    df = pd.read_excel (import_file_path)\n",
    "    #Convert headings from Number values into String Values. Makes it simpler to reference a String\n",
    "    df.columns = df.columns.astype(str)\n",
    "    print (df.head(0))\n",
    "    \n",
    "browseButton_Excel = tk.Button(text='Import Excel File', command=getExcel, bg='green', fg='white', font=('helvetica', 12, 'bold'))\n",
    "canvas1.create_window(150, 150, window=browseButton_Excel)\n",
    "\n",
    "root.mainloop()\n",
    "\n",
    "del root\n",
    "del canvas1              \n",
    "del browseButton_Excel\n",
    "del filedialog   \n",
    "del getExcel     \n",
    "\n",
    "del tk         "
   ]
  },
  {
   "cell_type": "code",
   "execution_count": 5,
   "metadata": {},
   "outputs": [
    {
     "name": "stdout",
     "output_type": "stream",
     "text": [
      "  AdmissionStartYear StartYear EndYear DischargeEndYear\n",
      "0             201206    201207  201306           201307\n",
      "1             201306    201307  201406           201407\n",
      "2             201406    201407  201506           201507\n",
      "3             201506    201507  201606           201607\n",
      "4             201606    201607  201706           201707\n",
      "5             201706    201707  201806           201807\n",
      "6             201806    201807  201906           201907\n",
      "7             201906    201907  202006           202007\n",
      "Rows  8\n",
      "Columns 4\n"
     ]
    }
   ],
   "source": [
    "startDate = 2012\n",
    "YearsToObserve = 8\n",
    "\n",
    "admissionStartYear = []\n",
    "aStartYear = []\n",
    "aEndYear = []\n",
    "DischargeEndYear = []\n",
    "\n",
    "for i in range(YearsToObserve):\n",
    "    \n",
    "    admissionStartYear.append(str(startDate) + '06')\n",
    "    \n",
    "    aStartYear.append( str(startDate) +'07')\n",
    "    aEndYear.append( str(startDate + 1) +'06')\n",
    "    \n",
    "    DischargeEndYear.append( str(startDate + 1) +'07')\n",
    "    \n",
    "    startDate += 1\n",
    "       \n",
    "#initialise data of lists. \n",
    "data = {'AdmissionStartYear': admissionStartYear, 'StartYear':aStartYear, \n",
    "        'EndYear':aEndYear, 'DischargeEndYear':DischargeEndYear   } \n",
    "\n",
    "#Creates pandas DataFrame. \n",
    "dfYearsToInspect = pd.DataFrame(data) \n",
    "  \n",
    "if debug=='true':\n",
    "    print(dfYearsToInspect)\n",
    "    \n",
    "    print('Rows ' , dfYearsToInspect.shape[0]) #The number of Rows\n",
    "    #print('Columns', dfYearsToInspect.shape[1]) #The Number of Columns"
   ]
  },
  {
   "cell_type": "code",
   "execution_count": 6,
   "metadata": {},
   "outputs": [],
   "source": [
    "def DefineDataFrameColumn(dataFrame, columnName):\n",
    "    PSLK = pd.DataFrame(dataFrame, columns= [columnName], dtype=int)\n",
    "    PSLK.describe()"
   ]
  },
  {
   "cell_type": "code",
   "execution_count": 7,
   "metadata": {},
   "outputs": [],
   "source": [
    "def Admissions(row, colA, colB):\n",
    "    if row[colA] < row[colB]:\n",
    "        val = 1\n",
    "    else:\n",
    "        val = 0\n",
    "    return val"
   ]
  },
  {
   "cell_type": "code",
   "execution_count": 8,
   "metadata": {},
   "outputs": [],
   "source": [
    "def Discharges(row, colA, colB):\n",
    "    if row[colA] > row[colB]:\n",
    "        val = 1\n",
    "    else:\n",
    "        val = 0\n",
    "    return val"
   ]
  },
  {
   "cell_type": "code",
   "execution_count": 9,
   "metadata": {},
   "outputs": [],
   "source": [
    "def IdentifyColumns(dataFrame,  colToIgnore):\n",
    "    aCol = []\n",
    "    for (columnName, columnData) in df.iteritems():\n",
    "        if columnName != colToIgnore: \n",
    "            aCol.append(columnName)\n",
    "\n",
    "    return aCol"
   ]
  },
  {
   "cell_type": "code",
   "execution_count": 10,
   "metadata": {},
   "outputs": [],
   "source": [
    "# Returns a new list. \"lst\" is not modified.\n",
    "def delete__by_values(list, valuesToDelete):\n",
    "    values_as_set = set(valuesToDelete)\n",
    "    return [ x for x in list if x not in values_as_set ]"
   ]
  },
  {
   "cell_type": "code",
   "execution_count": 11,
   "metadata": {},
   "outputs": [],
   "source": [
    "# Returns a new list. \"lst\" is not modified.\n",
    "def Retain__by_values(list, valuesToRetain):\n",
    "    values_as_set = set(valuesToRetain)\n",
    "    return [ x for x in list if x in values_as_set ]"
   ]
  },
  {
   "cell_type": "code",
   "execution_count": 12,
   "metadata": {},
   "outputs": [
    {
     "name": "stdout",
     "output_type": "stream",
     "text": [
      "['201207', '201208', '201209', '201210', '201211', '201212', '201301', '201302', '201303', '201304', '201305', '201306', '201307', '201308', '201309', '201310', '201311', '201312', '201401', '201402', '201403', '201404', '201405', '201406']\n"
     ]
    }
   ],
   "source": [
    "aHeadings = IdentifyColumns(df.copy(),  'PSLK')\n",
    "\n",
    "if debug=='true':\n",
    "    print(aHeadings)"
   ]
  },
  {
   "cell_type": "code",
   "execution_count": 13,
   "metadata": {},
   "outputs": [
    {
     "name": "stdout",
     "output_type": "stream",
     "text": [
      "Processing Years:  201207 201208\n",
      "Processing Years:  201208 201209\n",
      "Processing Years:  201209 201210\n",
      "Processing Years:  201210 201211\n",
      "Processing Years:  201211 201212\n",
      "Processing Years:  201212 201301\n",
      "Processing Years:  201301 201302\n",
      "Processing Years:  201302 201303\n",
      "Processing Years:  201303 201304\n",
      "Processing Years:  201304 201305\n",
      "Processing Years:  201305 201306\n",
      "Processing Years:  201306 201307\n",
      "Processing Years:  201307 201308\n",
      "Processing Years:  201308 201309\n",
      "Processing Years:  201309 201310\n",
      "Processing Years:  201310 201311\n",
      "Processing Years:  201311 201312\n",
      "Processing Years:  201312 201401\n",
      "Processing Years:  201401 201402\n",
      "Processing Years:  201402 201403\n",
      "Processing Years:  201403 201404\n",
      "Processing Years:  201404 201405\n",
      "Processing Years:  201405 201406\n",
      "      PSLK  201207  201208  201209  201210  201211  201212  201301  201302  201303  201304  201305  201306  201307  201308  201309  \\\n",
      "0        1       0       1       1       1       1       1       1       1       1       1       1       0       1       1       1   \n",
      "1        2       0       0       0       1       1       1       0       0       0       1       1       0       0       0       0   \n",
      "...    ...     ...     ...     ...     ...     ...     ...     ...     ...     ...     ...     ...     ...     ...     ...     ...   \n",
      "1989  1990       1       1       1       0       1       0       0       1       1       1       0       1       1       1       0   \n",
      "1990  1991       0       1       0       0       0       1       0       1       0       1       1       0       0       1       1   \n",
      "\n",
      "      201310  201311  201312  201401  201402  201403  201404  201405  201406  A1207-1208  D1207-1208  A1208-1209  D1208-1209  A1209-1210  \\\n",
      "0          1       1       1       1       1       1       1       1       1           1           0           0           0           0   \n",
      "1          1       1       1       0       0       0       1       1       1           0           0           0           0           1   \n",
      "...      ...     ...     ...     ...     ...     ...     ...     ...     ...         ...         ...         ...         ...         ...   \n",
      "1989       0       1       0       1       1       1       1       0       1           0           0           0           0           0   \n",
      "1990       1       1       0       0       0       0       1       1       0           1           0           0           1           0   \n",
      "\n",
      "      D1209-1210  A1210-1211  D1210-1211  A1211-1212  D1211-1212  A1212-1301  D1212-1301  A1301-1302  D1301-1302  A1302-1303  D1302-1303  \\\n",
      "0              0           0           0           0           0           0           0           0           0           0           0   \n",
      "1              0           0           0           0           0           0           1           0           0           0           0   \n",
      "...          ...         ...         ...         ...         ...         ...         ...         ...         ...         ...         ...   \n",
      "1989           1           1           0           0           1           0           0           1           0           0           0   \n",
      "1990           0           0           0           1           0           0           1           1           0           0           1   \n",
      "\n",
      "      A1303-1304  D1303-1304  A1304-1305  D1304-1305  A1305-1306  D1305-1306  A1306-1307  D1306-1307  A1307-1308  D1307-1308  A1308-1309  \\\n",
      "0              0           0           0           0           0           1           1           0           0           0           0   \n",
      "1              1           0           0           0           0           1           0           0           0           0           0   \n",
      "...          ...         ...         ...         ...         ...         ...         ...         ...         ...         ...         ...   \n",
      "1989           0           0           0           1           1           0           0           0           0           0           0   \n",
      "1990           1           0           0           0           0           1           0           0           1           0           0   \n",
      "\n",
      "      D1308-1309  A1309-1310  D1309-1310  A1310-1311  D1310-1311  A1311-1312  D1311-1312  A1312-1401  D1312-1401  A1401-1402  D1401-1402  \\\n",
      "0              0           0           0           0           0           0           0           0           0           0           0   \n",
      "1              0           1           0           0           0           0           0           0           1           0           0   \n",
      "...          ...         ...         ...         ...         ...         ...         ...         ...         ...         ...         ...   \n",
      "1989           1           0           0           1           0           0           1           1           0           0           0   \n",
      "1990           0           0           0           0           0           0           1           0           0           0           0   \n",
      "\n",
      "      A1402-1403  D1402-1403  A1403-1404  D1403-1404  A1404-1405  D1404-1405  A1405-1406  D1405-1406  \n",
      "0              0           0           0           0           0           0           0           0  \n",
      "1              0           0           1           0           0           0           0           0  \n",
      "...          ...         ...         ...         ...         ...         ...         ...         ...  \n",
      "1989           0           0           0           0           0           1           1           0  \n",
      "1990           0           0           1           0           0           0           0           1  \n",
      "\n",
      "[1991 rows x 71 columns]\n"
     ]
    }
   ],
   "source": [
    "#perform sum of all rows for *Admissions and *Discharges\n",
    "dfTest = df.copy()\n",
    "\n",
    "col_list = list(df)\n",
    "\n",
    "col_list = delete__by_values( aHeadings, 'PSLK' )\n",
    "\n",
    "listOfAdmissionColumns = []\n",
    "listOfDischargeColumns = []\n",
    "#total =  dfTestAdmissions[col_list].sum(axis=1)\n",
    "\n",
    "for i in range(len(col_list)-1):\n",
    "    print('Processing Years: ', col_list[i], col_list[i+1]) \n",
    "    \n",
    "    #This just means, select the first four characters of the String Variable\n",
    "    AdmissionHeading = 'A' +  str(col_list[i][-4:]) + '-' + str(col_list[i+1][-4:]) \n",
    "    DischargeHeading = 'D' +  str(col_list[i][-4:]) + '-' + str(col_list[i+1][-4:]) \n",
    "  \n",
    "    dfTest[AdmissionHeading] = dfTest.apply(Admissions,colA=col_list[i],colB=col_list[i+1],axis=1)\n",
    "    dfTest[DischargeHeading] = dfTest.apply(Discharges,colA=col_list[i],colB=col_list[i+1],axis=1)\n",
    "\n",
    "    #This just means, select the first four characters of the String Variable\n",
    "    \n",
    "    if AdmissionHeading not in listOfAdmissionColumns:\n",
    "         listOfAdmissionColumns.append(AdmissionHeading)    \n",
    "    \n",
    "    if DischargeHeading not in listOfDischargeColumns:\n",
    "         listOfDischargeColumns.append(DischargeHeading)\n",
    "\n",
    "    \n",
    "with pd.option_context('display.max_rows', 4, 'display.max_columns', None):  # more options can be specified also\n",
    "    print(dfTest)\n"
   ]
  },
  {
   "cell_type": "code",
   "execution_count": 15,
   "metadata": {},
   "outputs": [
    {
     "name": "stdout",
     "output_type": "stream",
     "text": [
      "  Index StartYear EndYear       Type\n",
      "0     0    201207  201306  Admission\n",
      "1     1    201306  201406  Admission\n"
     ]
    }
   ],
   "source": [
    "#This formula is corret, we just need to perform the wider calculation on the tables with this information.\n",
    "\n",
    "#print(dfYearsToInspect)\n",
    "# Admissions Looks behind : Start on YYYY07; giving preference to YYYY06 over YYYY07 End on (YYYY+1)06\n",
    "\n",
    "aAdmission = pd.DataFrame(columns=('Index', 'StartYear', 'EndYear', 'Type'))\n",
    "\n",
    "for index,row in dfYearsToInspect.iterrows():\n",
    "\n",
    "    #give preference to the AdmissionsStartYear. Only take a StartYear if ASY does not exist\n",
    "    if row['AdmissionStartYear'] in aHeadings and row['EndYear'] in aHeadings:\n",
    "        aAdmission.loc[index] = index, row['AdmissionStartYear'], row['EndYear'] , 'Admission'\n",
    "            \n",
    "    elif row['StartYear'] in aHeadings and row['EndYear'] in aHeadings:\n",
    "        aAdmission.loc[index] =index,  row['StartYear'], row['EndYear']  , 'Admission'\n",
    "        \n",
    "if debug=='true':\n",
    "    print (aAdmission)\n"
   ]
  },
  {
   "cell_type": "code",
   "execution_count": 14,
   "metadata": {},
   "outputs": [
    {
     "name": "stdout",
     "output_type": "stream",
     "text": [
      "  Index StartYear EndYear       Type\n",
      "0     0    201207  201307  Discharge\n",
      "1     1    201307  201406  Discharge\n"
     ]
    }
   ],
   "source": [
    "# Discharges look ahead. Start with YYYY07 -> through to (YYYY+1)06, giving preference to (YYYY+1)07 over (YYYY+1)06\n",
    "\n",
    "aDischarge = pd.DataFrame(columns=('Index', 'StartYear', 'EndYear', 'Type'))\n",
    "\n",
    "for index,row in dfYearsToInspect.iterrows():\n",
    "\n",
    "    if row['StartYear'] in aHeadings and row['DischargeEndYear'] in aHeadings:\n",
    "        aDischarge.loc[index] = index, row['StartYear'], row['DischargeEndYear']  , 'Discharge'   \n",
    "  \n",
    "    elif row['StartYear'] in aHeadings and row['EndYear'] in aHeadings:\n",
    "        aDischarge.loc[index] = index, row['StartYear'], row['EndYear'], 'Discharge'\n",
    "\n",
    "if debug=='true':\n",
    "    print (aDischarge)\n",
    "    \n",
    "#if index == 1 : break #for testing, just use the first returned value."
   ]
  },
  {
   "cell_type": "code",
   "execution_count": null,
   "metadata": {},
   "outputs": [],
   "source": [
    "# Admissions Looks behind : Start on YYYY07; giving preference to YYYY06 over YYYY07 End on (YYYY+1)06\n",
    "debug='false'\n",
    "# print(aHeadings)\n",
    "\n",
    "AdmissionIndexes = pd.DataFrame(columns=('Index', 'YearListing', 'Type'))\n",
    "\n",
    "for index,row in aAdmission.iterrows():\n",
    "   # print(index,row.StartYear, row.EndYear, row.Count)\n",
    "    if row['StartYear'] in aHeadings:\n",
    "\n",
    "        startingPosition = aHeadings.index(row['StartYear'])\n",
    "        endingPosition = aHeadings.index(row['EndYear'])\n",
    "        AdmissionIndexes.loc[index] = index, aHeadings[startingPosition:endingPosition+1], 'Admission'\n",
    "\n",
    "        if debug=='true':\n",
    "            print(aHeadings.index(row['StartYear']) ,  aHeadings.index(row['EndYear']) )\n",
    "            print(aHeadings[startingPosition:endingPosition+1]   )\n",
    "            #AdmissionIndexes.append(aHeadings[startingPosition:endingPosition+1])\n",
    "            \n",
    "      # if index == 0 : break #for testing, just use the first returned value.\n",
    "   \n",
    "    # for index, row in enumerate(headings):\n",
    "#     if row in aHeadings:\n",
    "#         indexes.append(index)\n",
    "if debug=='true':\n",
    "    print(AdmissionIndexes)"
   ]
  },
  {
   "cell_type": "code",
   "execution_count": null,
   "metadata": {},
   "outputs": [],
   "source": [
    "# Discharges look ahead. Start with YYYY07 -> through to (YYYY+1)06, giving preference to (YYYY+1)07 over (YYYY+1)06\n",
    "\n",
    "#print(aHeadings)\n",
    "\n",
    "DischargeIndexes = pd.DataFrame(columns=('Index', 'YearListing', 'Type'))\n",
    "\n",
    "for index,row in aDischarge.iterrows():\n",
    "    # print(index,row.StartYear, row.EndYear, row.Count)\n",
    "    if row['StartYear'] in aHeadings:\n",
    "\n",
    "        startingPosition = aHeadings.index(row['StartYear'])\n",
    "        endingPosition = aHeadings.index(row['EndYear'])\n",
    "        DischargeIndexes.loc[index] = index, aHeadings[startingPosition:endingPosition+1], 'Discharge'\n",
    "            \n",
    "        if debug=='true':\n",
    "            print(aHeadings.index(row['StartYear']) ,  aHeadings.index(row['EndYear']) )\n",
    "            print(aHeadings[startingPosition:endingPosition + 1]   )\n",
    "           \n",
    "      # if index == 0 : break #for testing, just use the first returned value.\n",
    "    \n",
    "# if debug=='true':\n",
    "print(DischargeIndexes)   "
   ]
  },
  {
   "cell_type": "code",
   "execution_count": null,
   "metadata": {},
   "outputs": [],
   "source": [
    "#loop all AdminissionIndexes to calculate the required Numbers\n",
    "debug = 'false'\n",
    "\n",
    "\n",
    "#reset the testing Data Frame.\n",
    "dfTestAdmissions = df.copy()\n",
    "\n",
    "#numCols = AdmissionIndexes.shape[0]\n",
    "\n",
    "#This is the first Year listing. ill need to loop over all Year Listing!\n",
    "\n",
    "#print(AdmissionIndexes)\n",
    "for i in range(len(AdmissionIndexes.YearListing)  ): \n",
    "    if debug=='true':\n",
    "        print(i, AdmissionIndexes.YearListing[i])\n",
    "        print('Start of New Section')\n",
    "\n",
    "    AdmissionYears = AdmissionIndexes.YearListing[i]\n",
    "    \n",
    "    listOfColumns = []\n",
    "    \n",
    "    for j in range(len(AdmissionYears) -1 ): \n",
    "        \n",
    "        dColA = str(AdmissionYears[j])\n",
    "        dColB = str(AdmissionYears[j + 1])\n",
    "        \n",
    "        if debug=='true':\n",
    "            print('Identified Year Pairs:', AdmissionYears[j], AdmissionYears[j+1])       \n",
    "            print('d', dColA, dColB)\n",
    "\n",
    "        #This just means, select the first four characters of the String Variable\n",
    "        AdmissionHeading = 'A' +  str(dColA[-4:]) + '-' + str(dColB[-4:]) \n",
    "        \n",
    "        if debug=='true':\n",
    "            print(AdmissionHeading)\n",
    "        \n",
    "        dfTestAdmissions[AdmissionHeading] = dfTestAdmissions.apply(Admissions,colA=dColA,colB=dColB,axis=1) \n",
    "        #should we perform the SUM here? Ie SuM the total 1's i teh Row?\n",
    "        \n",
    "        if AdmissionHeading not in listOfColumns:\n",
    "             listOfColumns.append(AdmissionHeading)\n",
    "\n",
    "        j += 1\n",
    "\n",
    "    #print(dfTestAdmissions[listOfColumns])\n",
    "    \n",
    "    #I am not convinced this is the way to go with this part. \n",
    "    \n",
    "#     col_list = list(dfTestAdmissions)\n",
    "#     #print(col_list)\n",
    "\n",
    "#     #This section needs to be improved, as it needs to calculate at the end of each 'Section'\n",
    "#     allHeadings = IdentifyColumns(df.copy(),  '')\n",
    "#     print(allHeadings)\n",
    "    \n",
    "#     col_list = Retain__by_values(allHeadings, listOfColumns)\n",
    "    \n",
    "#     print (col_list)\n",
    "    #col_list = delete__by_values( col_list, allHeadings )\n",
    "    #print(col_list)\n",
    "\n",
    "    #total =  dfTestAdmissions[col_list].sum(axis=1)\n",
    "\n",
    "#     dfTestAdmissions['az_'+ str(AdmissionYears[i][-4:])] = dfTestAdmissions[col_list].sum(axis=1)\n",
    "\n",
    "#     print('End of Section', i, dColA, dColB)\n",
    "    \n",
    "    \n",
    "with pd.option_context('display.max_rows', 3, 'display.max_columns', None):  # more options can be specified also\n",
    "    print(dfTestAdmissions)\n"
   ]
  },
  {
   "cell_type": "code",
   "execution_count": null,
   "metadata": {},
   "outputs": [],
   "source": [
    "#loop all DischargeIndexes to calculate the required Numbers\n",
    "\n",
    "listOfColumns = []\n",
    "\n",
    "#reset the testing Data Frame.\n",
    "dfTestDischarge = df.copy()\n",
    "\n",
    "#numCols = AdmissionIndexes.shape[0]\n",
    "\n",
    "#This is the first Year listing. ill need to loop over all Year Listing!\n",
    "\n",
    "#print(AdmissionIndexes)\n",
    "for i in range(len(DischargeIndexes.YearListing)  ): \n",
    "    if debug=='true':\n",
    "        print(i, DischargeIndexes.YearListing[i])\n",
    "        print('Start of New Section')\n",
    "\n",
    "    DischargeYears = DischargeIndexes.YearListing[i]\n",
    "  \n",
    "    for j in range(len(DischargeYears) -1 ): \n",
    "\n",
    "        dColA = str(DischargeYears[j])\n",
    "        dColB = str(DischargeYears[j + 1])\n",
    "        \n",
    "        if debug=='true':\n",
    "            print('Identified Year Pairs:', DischargeYears[i], DischargeYears[j+1])       \n",
    "            print('d', dColA, dColB)\n",
    "\n",
    "        #This just means, select the first four characters of the String Variable\n",
    "        DischargeHeading = 'D' +  str(dColA[-4:]) + '-' + str(dColB[-4:]) \n",
    "        \n",
    "        if debug=='true':\n",
    "            print(DischargeHeading)\n",
    "        \n",
    "        dfTestDischarge[DischargeHeading] = dfTestDischarge.apply(Discharges,colA=dColA,colB=dColB,axis=1) \n",
    "\n",
    "        if DischargeHeading not in listOfColumns:\n",
    "             listOfColumns.append(DischargeHeading)\n",
    "\n",
    "        j += 1\n",
    "        \n",
    "    #print(dfTestAdmissions[listOfColumns])\n",
    "\n",
    "#     col_list = list(dfTestDischarge)\n",
    "#     #print(col_list)\n",
    "\n",
    "#     #This section needs to be improved, as it needs to calculate at the end of each 'Section'\n",
    "#     allHeadings = IdentifyColumns(df.copy(),  '')\n",
    "\n",
    "#     col_list = delete__by_values( col_list, allHeadings )\n",
    "#     #print(col_list)\n",
    "\n",
    "    #total =  dfTestAdmissions[col_list].sum(axis=1)\n",
    "\n",
    "#     dfTestDischarge['dz_'+ str(DischargeYears[i][-4:])] = dfTestDischarge[col_list].sum(axis=1)\n",
    "\n",
    "#     print('End of Section', i, dColA, dColB)\n",
    "    \n",
    "\n",
    "with pd.option_context('display.max_rows', 3, 'display.max_columns', None):  # more options can be specified also\n",
    "    print(dfTestDischarge)\n"
   ]
  },
  {
   "cell_type": "code",
   "execution_count": null,
   "metadata": {},
   "outputs": [],
   "source": [
    "#We now need to Count the Records per Row Groupoing.  I may be able to perform that as part of the previous iterations?"
   ]
  },
  {
   "cell_type": "code",
   "execution_count": 16,
   "metadata": {},
   "outputs": [
    {
     "ename": "NameError",
     "evalue": "name 'dfTestDischarge' is not defined",
     "output_type": "error",
     "traceback": [
      "\u001b[1;31m---------------------------------------------------------------------------\u001b[0m",
      "\u001b[1;31mNameError\u001b[0m                                 Traceback (most recent call last)",
      "\u001b[1;32m<ipython-input-16-8416e67036b9>\u001b[0m in \u001b[0;36m<module>\u001b[1;34m\u001b[0m\n\u001b[0;32m      1\u001b[0m \u001b[1;32mwith\u001b[0m \u001b[0mpd\u001b[0m\u001b[1;33m.\u001b[0m\u001b[0moption_context\u001b[0m\u001b[1;33m(\u001b[0m\u001b[1;34m'display.max_rows'\u001b[0m\u001b[1;33m,\u001b[0m \u001b[1;36m30\u001b[0m\u001b[1;33m,\u001b[0m \u001b[1;34m'display.max_columns'\u001b[0m\u001b[1;33m,\u001b[0m \u001b[1;32mNone\u001b[0m\u001b[1;33m)\u001b[0m\u001b[1;33m:\u001b[0m  \u001b[1;31m# more options can be specified also\u001b[0m\u001b[1;33m\u001b[0m\u001b[1;33m\u001b[0m\u001b[0m\n\u001b[1;32m----> 2\u001b[1;33m     \u001b[0mprint\u001b[0m\u001b[1;33m(\u001b[0m\u001b[0mdfTestDischarge\u001b[0m\u001b[1;33m)\u001b[0m\u001b[1;33m\u001b[0m\u001b[1;33m\u001b[0m\u001b[0m\n\u001b[0m",
      "\u001b[1;31mNameError\u001b[0m: name 'dfTestDischarge' is not defined"
     ]
    }
   ],
   "source": [
    "with pd.option_context('display.max_rows', 30, 'display.max_columns', None):  # more options can be specified also\n",
    "    print(dfTestDischarge)"
   ]
  },
  {
   "cell_type": "code",
   "execution_count": null,
   "metadata": {},
   "outputs": [],
   "source": [
    "\n"
   ]
  },
  {
   "cell_type": "code",
   "execution_count": 18,
   "metadata": {},
   "outputs": [
    {
     "name": "stdout",
     "output_type": "stream",
     "text": [
      "Identified list of: ['201207', '201306', '201307', '201406']\n",
      "Identified Indexes: [1, 12, 13, 24]\n"
     ]
    }
   ],
   "source": [
    "#This is good  code, but I do not need to use it as of yet.\n",
    "\n",
    "#Admission prefers leading '06'\n",
    "\n",
    "FullList = df.head(0)\n",
    "headings = FullList.columns\n",
    "\n",
    "AdmissionPreference = ['06','07']\n",
    "AdmissionMatching = [FullList for FullList in FullList if any(item in FullList for item in AdmissionPreference)]\n",
    "AdmissionMatching.sort()\n",
    "\n",
    "if debug=='true':\n",
    "    print('Identified list of:', AdmissionMatching)\n",
    "\n",
    "#these lines are identical to the ONE line of code above. Just not sure how to refactor as such.\n",
    "indexes = []\n",
    "for index, row in enumerate(headings):\n",
    "    if row in AdmissionMatching:\n",
    "        indexes.append(index)\n",
    "print('Identified Indexes:' , indexes)      "
   ]
  },
  {
   "cell_type": "code",
   "execution_count": null,
   "metadata": {},
   "outputs": [],
   "source": []
  }
 ],
 "metadata": {
  "kernelspec": {
   "display_name": "Python 3",
   "language": "python",
   "name": "python3"
  },
  "language_info": {
   "codemirror_mode": {
    "name": "ipython",
    "version": 3
   },
   "file_extension": ".py",
   "mimetype": "text/x-python",
   "name": "python",
   "nbconvert_exporter": "python",
   "pygments_lexer": "ipython3",
   "version": "3.7.3"
  }
 },
 "nbformat": 4,
 "nbformat_minor": 2
}
