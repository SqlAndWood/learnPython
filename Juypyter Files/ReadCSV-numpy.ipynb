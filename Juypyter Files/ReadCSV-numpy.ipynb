{
 "cells": [
  {
   "cell_type": "code",
   "execution_count": 3,
   "metadata": {},
   "outputs": [
    {
     "name": "stdout",
     "output_type": "stream",
     "text": [
      "C:\\git\\learnPython\\Juypyter\n"
     ]
    }
   ],
   "source": [
    "import os\n",
    "print (os.getcwd())"
   ]
  },
  {
   "cell_type": "code",
   "execution_count": 5,
   "metadata": {},
   "outputs": [],
   "source": [
    "# Load CSV (using python)\n",
    "import csv\n"
   ]
  },
  {
   "cell_type": "code",
   "execution_count": 9,
   "metadata": {},
   "outputs": [],
   "source": [
    "filename = 'weatherhistory.csv'"
   ]
  },
  {
   "cell_type": "code",
   "execution_count": 10,
   "metadata": {},
   "outputs": [],
   "source": [
    "raw_data = open(filename, 'rt')"
   ]
  },
  {
   "cell_type": "code",
   "execution_count": 14,
   "metadata": {},
   "outputs": [],
   "source": [
    "# chunksize=1000000)\n",
    "#https://towardsdatascience.com/why-and-how-to-use-pandas-with-large-data-9594dda2ea4c\n",
    "reader = csv.reader(raw_data, delimiter=';', quoting=csv.QUOTE_NONE)"
   ]
  },
  {
   "cell_type": "code",
   "execution_count": 17,
   "metadata": {},
   "outputs": [
    {
     "ename": "AttributeError",
     "evalue": "'_csv.reader' object has no attribute 'head'",
     "output_type": "error",
     "traceback": [
      "\u001b[1;31m---------------------------------------------------------------------------\u001b[0m",
      "\u001b[1;31mAttributeError\u001b[0m                            Traceback (most recent call last)",
      "\u001b[1;32m<ipython-input-17-781e2f44afbe>\u001b[0m in \u001b[0;36m<module>\u001b[1;34m\u001b[0m\n\u001b[1;32m----> 1\u001b[1;33m \u001b[0mprint\u001b[0m\u001b[1;33m(\u001b[0m\u001b[0mreader\u001b[0m\u001b[1;33m.\u001b[0m\u001b[0mhead\u001b[0m\u001b[1;33m(\u001b[0m\u001b[1;33m)\u001b[0m\u001b[1;33m)\u001b[0m\u001b[1;33m\u001b[0m\u001b[1;33m\u001b[0m\u001b[0m\n\u001b[0m",
      "\u001b[1;31mAttributeError\u001b[0m: '_csv.reader' object has no attribute 'head'"
     ]
    }
   ],
   "source": [
    "print(reader.head())"
   ]
  },
  {
   "cell_type": "code",
   "execution_count": null,
   "metadata": {},
   "outputs": [],
   "source": [
    "data = numpy.array(x).astype('float')\n",
    "print(data.shape)\n",
    "\n",
    "import  numpy\n",
    " "
   ]
  },
  {
   "cell_type": "code",
   "execution_count": 33,
   "metadata": {},
   "outputs": [],
   "source": [
    "import pandas\n",
    "filename = 'weatherhistory.csv'\n",
    "dataframe=pandas.read_csv(filename, sep=';',header=0)\n",
    "\n",
    "\n"
   ]
  },
  {
   "cell_type": "code",
   "execution_count": 34,
   "metadata": {},
   "outputs": [
    {
     "data": {
      "text/plain": [
       "['date',\n",
       " 'temperaturemin',\n",
       " 'temperaturemax',\n",
       " 'precipitation',\n",
       " 'snowfall',\n",
       " 'snowdepth',\n",
       " 'avgwindspeed',\n",
       " 'fastest2minwinddir',\n",
       " 'fastest2minwindspeed',\n",
       " 'fastest5secwinddir',\n",
       " 'fastest5secwindspeed',\n",
       " 'fog',\n",
       " 'fogheavy',\n",
       " 'mist',\n",
       " 'rain',\n",
       " 'fogground',\n",
       " 'ice',\n",
       " 'glaze',\n",
       " 'drizzle',\n",
       " 'snow',\n",
       " 'freezingrain',\n",
       " 'smokehaze',\n",
       " 'thunder',\n",
       " 'highwind',\n",
       " 'hail',\n",
       " 'blowingsnow',\n",
       " 'dust',\n",
       " 'freezingfog']"
      ]
     },
     "execution_count": 34,
     "metadata": {},
     "output_type": "execute_result"
    }
   ],
   "source": [
    "#These all return the same result\n",
    "#list(dataframe.columns.values)\n",
    "list(dataframe)\n",
    "#dataframe.columns.tolist()"
   ]
  },
  {
   "cell_type": "code",
   "execution_count": 40,
   "metadata": {},
   "outputs": [
    {
     "data": {
      "text/html": [
       "<div>\n",
       "<style scoped>\n",
       "    .dataframe tbody tr th:only-of-type {\n",
       "        vertical-align: middle;\n",
       "    }\n",
       "\n",
       "    .dataframe tbody tr th {\n",
       "        vertical-align: top;\n",
       "    }\n",
       "\n",
       "    .dataframe thead th {\n",
       "        text-align: right;\n",
       "    }\n",
       "</style>\n",
       "<table border=\"1\" class=\"dataframe\">\n",
       "  <thead>\n",
       "    <tr style=\"text-align: right;\">\n",
       "      <th></th>\n",
       "      <th>date</th>\n",
       "      <th>temperaturemin</th>\n",
       "      <th>temperaturemax</th>\n",
       "      <th>precipitation</th>\n",
       "      <th>snowfall</th>\n",
       "      <th>snowdepth</th>\n",
       "      <th>avgwindspeed</th>\n",
       "      <th>fastest2minwinddir</th>\n",
       "      <th>fastest2minwindspeed</th>\n",
       "      <th>fastest5secwinddir</th>\n",
       "      <th>...</th>\n",
       "      <th>drizzle</th>\n",
       "      <th>snow</th>\n",
       "      <th>freezingrain</th>\n",
       "      <th>smokehaze</th>\n",
       "      <th>thunder</th>\n",
       "      <th>highwind</th>\n",
       "      <th>hail</th>\n",
       "      <th>blowingsnow</th>\n",
       "      <th>dust</th>\n",
       "      <th>freezingfog</th>\n",
       "    </tr>\n",
       "  </thead>\n",
       "  <tbody>\n",
       "    <tr>\n",
       "      <th>0</th>\n",
       "      <td>2007-01-13</td>\n",
       "      <td>48.0</td>\n",
       "      <td>69.1</td>\n",
       "      <td>0.0</td>\n",
       "      <td>0.0</td>\n",
       "      <td>0.0</td>\n",
       "      <td>6.93</td>\n",
       "      <td>230.0</td>\n",
       "      <td>17.0</td>\n",
       "      <td>230.0</td>\n",
       "      <td>...</td>\n",
       "      <td>No</td>\n",
       "      <td>No</td>\n",
       "      <td>No</td>\n",
       "      <td>No</td>\n",
       "      <td>No</td>\n",
       "      <td>No</td>\n",
       "      <td>No</td>\n",
       "      <td>No</td>\n",
       "      <td>No</td>\n",
       "      <td>No</td>\n",
       "    </tr>\n",
       "  </tbody>\n",
       "</table>\n",
       "<p>1 rows × 28 columns</p>\n",
       "</div>"
      ],
      "text/plain": [
       "         date  temperaturemin  temperaturemax  precipitation  snowfall  \\\n",
       "0  2007-01-13            48.0            69.1            0.0       0.0   \n",
       "\n",
       "   snowdepth  avgwindspeed  fastest2minwinddir  fastest2minwindspeed  \\\n",
       "0        0.0          6.93               230.0                  17.0   \n",
       "\n",
       "   fastest5secwinddir  ...  drizzle snow freezingrain smokehaze thunder  \\\n",
       "0               230.0  ...       No   No           No        No      No   \n",
       "\n",
       "  highwind hail blowingsnow dust freezingfog  \n",
       "0       No   No          No   No          No  \n",
       "\n",
       "[1 rows x 28 columns]"
      ]
     },
     "execution_count": 40,
     "metadata": {},
     "output_type": "execute_result"
    }
   ],
   "source": [
    "dataframe.head(1)"
   ]
  },
  {
   "cell_type": "code",
   "execution_count": 54,
   "metadata": {},
   "outputs": [
    {
     "data": {
      "text/plain": [
       "'2007-01-13'"
      ]
     },
     "execution_count": 54,
     "metadata": {},
     "output_type": "execute_result"
    }
   ],
   "source": [
    "dataframe.iloc[0, 0]"
   ]
  },
  {
   "cell_type": "code",
   "execution_count": 57,
   "metadata": {
    "scrolled": true
   },
   "outputs": [
    {
     "data": {
      "text/plain": [
       "0       2007-01-13\n",
       "1       2007-01-19\n",
       "2       2007-01-21\n",
       "3       2007-01-25\n",
       "4       2007-01-27\n",
       "5       2007-02-05\n",
       "6       2007-02-08\n",
       "7       2007-02-09\n",
       "8       2007-02-26\n",
       "9       2007-03-04\n",
       "10      2007-03-05\n",
       "11      2007-03-17\n",
       "12      2007-03-18\n",
       "13      2007-04-05\n",
       "14      2007-04-06\n",
       "15      2007-04-11\n",
       "16      2007-04-17\n",
       "17      2007-04-19\n",
       "18      2007-04-23\n",
       "19      2007-04-27\n",
       "20      2007-04-28\n",
       "21      2007-04-29\n",
       "22      2007-05-02\n",
       "23      2007-05-03\n",
       "24      2007-05-05\n",
       "25      2007-05-07\n",
       "26      2007-05-08\n",
       "27      2007-05-16\n",
       "28      2007-05-18\n",
       "29      2007-05-25\n",
       "           ...    \n",
       "4527    2018-12-15\n",
       "4528    2018-12-21\n",
       "4529    2018-12-25\n",
       "4530    2019-01-04\n",
       "4531    2019-01-08\n",
       "4532    2019-01-09\n",
       "4533    2019-01-12\n",
       "4534    2019-01-14\n",
       "4535    2019-01-15\n",
       "4536    2019-01-20\n",
       "4537    2019-02-12\n",
       "4538    2019-02-17\n",
       "4539    2019-02-18\n",
       "4540    2019-02-26\n",
       "4541    2019-02-27\n",
       "4542    2019-03-01\n",
       "4543    2019-03-03\n",
       "4544    2019-03-05\n",
       "4545    2019-03-06\n",
       "4546    2019-03-15\n",
       "4547    2019-03-17\n",
       "4548    2019-03-26\n",
       "4549    2019-04-09\n",
       "4550    2019-04-23\n",
       "4551    2019-05-06\n",
       "4552    2019-05-12\n",
       "4553    2019-05-13\n",
       "4554    2019-05-24\n",
       "4555    2019-05-26\n",
       "4556    2019-06-08\n",
       "Name: date, Length: 4557, dtype: object"
      ]
     },
     "execution_count": 57,
     "metadata": {},
     "output_type": "execute_result"
    }
   ],
   "source": [
    "# first column of data frame \n",
    "dataframe.iloc[:,0]"
   ]
  },
  {
   "cell_type": "code",
   "execution_count": 58,
   "metadata": {
    "scrolled": true
   },
   "outputs": [
    {
     "data": {
      "text/plain": [
       "0       48.0\n",
       "1       34.0\n",
       "2       28.0\n",
       "3       30.9\n",
       "4       32.0\n",
       "5       19.9\n",
       "6       27.0\n",
       "7       21.9\n",
       "8       41.0\n",
       "9       34.0\n",
       "10      26.1\n",
       "11      33.1\n",
       "12      28.0\n",
       "13      41.0\n",
       "14      30.0\n",
       "15      46.0\n",
       "16      46.9\n",
       "17      44.1\n",
       "18      52.0\n",
       "19      63.0\n",
       "20      59.0\n",
       "21      53.1\n",
       "22      63.0\n",
       "23      57.0\n",
       "24      55.0\n",
       "25      42.1\n",
       "26      50.0\n",
       "27      62.1\n",
       "28      48.9\n",
       "29      55.9\n",
       "        ... \n",
       "4527    42.1\n",
       "4528    46.0\n",
       "4529    26.2\n",
       "4530    46.0\n",
       "4531    46.0\n",
       "4532    37.0\n",
       "4533    30.2\n",
       "4534    31.1\n",
       "4535    28.2\n",
       "4536    26.2\n",
       "4537    41.0\n",
       "4538    34.0\n",
       "4539    37.9\n",
       "4540    30.2\n",
       "4541    39.9\n",
       "4542    39.0\n",
       "4543    42.1\n",
       "4544    32.0\n",
       "4545    27.1\n",
       "4546    57.9\n",
       "4547    35.1\n",
       "4548    39.0\n",
       "4549    61.0\n",
       "4550    46.0\n",
       "4551    60.1\n",
       "4552    64.9\n",
       "4553    57.0\n",
       "4554    68.0\n",
       "4555    72.0\n",
       "4556    71.1\n",
       "Name: temperaturemin, Length: 4557, dtype: float64"
      ]
     },
     "execution_count": 58,
     "metadata": {},
     "output_type": "execute_result"
    }
   ],
   "source": [
    "# second column of data frame\n",
    "dataframe.iloc[:,1] "
   ]
  },
  {
   "cell_type": "code",
   "execution_count": 59,
   "metadata": {
    "scrolled": true
   },
   "outputs": [
    {
     "data": {
      "text/plain": [
       "date                     object\n",
       "temperaturemin          float64\n",
       "temperaturemax          float64\n",
       "precipitation           float64\n",
       "snowfall                float64\n",
       "snowdepth               float64\n",
       "avgwindspeed            float64\n",
       "fastest2minwinddir      float64\n",
       "fastest2minwindspeed    float64\n",
       "fastest5secwinddir      float64\n",
       "fastest5secwindspeed    float64\n",
       "fog                      object\n",
       "fogheavy                 object\n",
       "mist                     object\n",
       "rain                     object\n",
       "fogground                object\n",
       "ice                      object\n",
       "glaze                    object\n",
       "drizzle                  object\n",
       "snow                     object\n",
       "freezingrain             object\n",
       "smokehaze                object\n",
       "thunder                  object\n",
       "highwind                 object\n",
       "hail                     object\n",
       "blowingsnow              object\n",
       "dust                     object\n",
       "freezingfog              object\n",
       "dtype: object"
      ]
     },
     "execution_count": 59,
     "metadata": {},
     "output_type": "execute_result"
    }
   ],
   "source": [
    "dataframe.dtypes"
   ]
  },
  {
   "cell_type": "code",
   "execution_count": 66,
   "metadata": {},
   "outputs": [
    {
     "name": "stdout",
     "output_type": "stream",
     "text": [
      "<class 'pandas.core.frame.DataFrame'>\n",
      "RangeIndex: 4557 entries, 0 to 4556\n",
      "Data columns (total 28 columns):\n",
      "date                    4557 non-null datetime64[ns]\n",
      "temperaturemin          4556 non-null float64\n",
      "temperaturemax          4556 non-null float64\n",
      "precipitation           4556 non-null float64\n",
      "snowfall                4555 non-null float64\n",
      "snowdepth               4555 non-null float64\n",
      "avgwindspeed            4555 non-null float64\n",
      "fastest2minwinddir      4556 non-null float64\n",
      "fastest2minwindspeed    4556 non-null float64\n",
      "fastest5secwinddir      4538 non-null float64\n",
      "fastest5secwindspeed    4538 non-null float64\n",
      "fog                     4557 non-null object\n",
      "fogheavy                4557 non-null object\n",
      "mist                    4557 non-null object\n",
      "rain                    4557 non-null object\n",
      "fogground               4557 non-null object\n",
      "ice                     4557 non-null object\n",
      "glaze                   4557 non-null object\n",
      "drizzle                 4557 non-null object\n",
      "snow                    4557 non-null object\n",
      "freezingrain            4557 non-null object\n",
      "smokehaze               4557 non-null object\n",
      "thunder                 4557 non-null object\n",
      "highwind                4557 non-null object\n",
      "hail                    4557 non-null object\n",
      "blowingsnow             4557 non-null object\n",
      "dust                    4557 non-null object\n",
      "freezingfog             4557 non-null object\n",
      "dtypes: datetime64[ns](1), float64(10), object(17)\n",
      "memory usage: 996.9+ KB\n"
     ]
    }
   ],
   "source": [
    "dataframe.info()"
   ]
  },
  {
   "cell_type": "code",
   "execution_count": 73,
   "metadata": {},
   "outputs": [],
   "source": [
    "#https://pbpython.com/pandas_dtypes.html\n",
    "#dataframe['Customer Number'].astype('int')\n",
    "dataframe.iloc[:,0] = dataframe.iloc[:,0] .astype('datetime64')\n",
    "\n",
    "\n"
   ]
  },
  {
   "cell_type": "code",
   "execution_count": 71,
   "metadata": {},
   "outputs": [
    {
     "name": "stdout",
     "output_type": "stream",
     "text": [
      "<class 'pandas.core.frame.DataFrame'>\n",
      "RangeIndex: 4557 entries, 0 to 4556\n",
      "Data columns (total 28 columns):\n",
      "date                    4557 non-null datetime64[ns]\n",
      "temperaturemin          4556 non-null float64\n",
      "temperaturemax          4556 non-null float64\n",
      "precipitation           4556 non-null float64\n",
      "snowfall                4555 non-null float64\n",
      "snowdepth               4555 non-null float64\n",
      "avgwindspeed            4555 non-null float64\n",
      "fastest2minwinddir      4556 non-null float64\n",
      "fastest2minwindspeed    4556 non-null float64\n",
      "fastest5secwinddir      4538 non-null float64\n",
      "fastest5secwindspeed    4538 non-null float64\n",
      "fog                     4557 non-null object\n",
      "fogheavy                4557 non-null object\n",
      "mist                    4557 non-null object\n",
      "rain                    4557 non-null object\n",
      "fogground               4557 non-null object\n",
      "ice                     4557 non-null object\n",
      "glaze                   4557 non-null object\n",
      "drizzle                 4557 non-null object\n",
      "snow                    4557 non-null object\n",
      "freezingrain            4557 non-null object\n",
      "smokehaze               4557 non-null object\n",
      "thunder                 4557 non-null object\n",
      "highwind                4557 non-null object\n",
      "hail                    4557 non-null object\n",
      "blowingsnow             4557 non-null object\n",
      "dust                    4557 non-null object\n",
      "freezingfog             4557 non-null object\n",
      "dtypes: datetime64[ns](1), float64(10), object(17)\n",
      "memory usage: 996.9+ KB\n"
     ]
    }
   ],
   "source": [
    "dataframe.info()"
   ]
  },
  {
   "cell_type": "code",
   "execution_count": 72,
   "metadata": {},
   "outputs": [
    {
     "ename": "AttributeError",
     "evalue": "'DataFrame' object has no attribute 'to_numeric'",
     "output_type": "error",
     "traceback": [
      "\u001b[1;31m---------------------------------------------------------------------------\u001b[0m",
      "\u001b[1;31mAttributeError\u001b[0m                            Traceback (most recent call last)",
      "\u001b[1;32m<ipython-input-72-5f9c48e8e848>\u001b[0m in \u001b[0;36m<module>\u001b[1;34m\u001b[0m\n\u001b[1;32m----> 1\u001b[1;33m \u001b[0mdataframe\u001b[0m\u001b[1;33m.\u001b[0m\u001b[0mto_numeric\u001b[0m\u001b[1;33m(\u001b[0m\u001b[0mdataframe\u001b[0m\u001b[1;33m.\u001b[0m\u001b[0miloc\u001b[0m\u001b[1;33m[\u001b[0m\u001b[1;33m:\u001b[0m\u001b[1;33m,\u001b[0m\u001b[1;36m1\u001b[0m\u001b[1;33m]\u001b[0m\u001b[1;33m,\u001b[0m \u001b[0merrors\u001b[0m\u001b[1;33m=\u001b[0m\u001b[1;34m'coerce'\u001b[0m\u001b[1;33m)\u001b[0m\u001b[1;33m\u001b[0m\u001b[1;33m\u001b[0m\u001b[0m\n\u001b[0m",
      "\u001b[1;32mc:\\users\\developer\\appdata\\local\\programs\\python\\python37\\lib\\site-packages\\pandas\\core\\generic.py\u001b[0m in \u001b[0;36m__getattr__\u001b[1;34m(self, name)\u001b[0m\n\u001b[0;32m   5065\u001b[0m             \u001b[1;32mif\u001b[0m \u001b[0mself\u001b[0m\u001b[1;33m.\u001b[0m\u001b[0m_info_axis\u001b[0m\u001b[1;33m.\u001b[0m\u001b[0m_can_hold_identifiers_and_holds_name\u001b[0m\u001b[1;33m(\u001b[0m\u001b[0mname\u001b[0m\u001b[1;33m)\u001b[0m\u001b[1;33m:\u001b[0m\u001b[1;33m\u001b[0m\u001b[1;33m\u001b[0m\u001b[0m\n\u001b[0;32m   5066\u001b[0m                 \u001b[1;32mreturn\u001b[0m \u001b[0mself\u001b[0m\u001b[1;33m[\u001b[0m\u001b[0mname\u001b[0m\u001b[1;33m]\u001b[0m\u001b[1;33m\u001b[0m\u001b[1;33m\u001b[0m\u001b[0m\n\u001b[1;32m-> 5067\u001b[1;33m             \u001b[1;32mreturn\u001b[0m \u001b[0mobject\u001b[0m\u001b[1;33m.\u001b[0m\u001b[0m__getattribute__\u001b[0m\u001b[1;33m(\u001b[0m\u001b[0mself\u001b[0m\u001b[1;33m,\u001b[0m \u001b[0mname\u001b[0m\u001b[1;33m)\u001b[0m\u001b[1;33m\u001b[0m\u001b[1;33m\u001b[0m\u001b[0m\n\u001b[0m\u001b[0;32m   5068\u001b[0m \u001b[1;33m\u001b[0m\u001b[0m\n\u001b[0;32m   5069\u001b[0m     \u001b[1;32mdef\u001b[0m \u001b[0m__setattr__\u001b[0m\u001b[1;33m(\u001b[0m\u001b[0mself\u001b[0m\u001b[1;33m,\u001b[0m \u001b[0mname\u001b[0m\u001b[1;33m,\u001b[0m \u001b[0mvalue\u001b[0m\u001b[1;33m)\u001b[0m\u001b[1;33m:\u001b[0m\u001b[1;33m\u001b[0m\u001b[1;33m\u001b[0m\u001b[0m\n",
      "\u001b[1;31mAttributeError\u001b[0m: 'DataFrame' object has no attribute 'to_numeric'"
     ]
    }
   ],
   "source": []
  },
  {
   "cell_type": "code",
   "execution_count": 69,
   "metadata": {},
   "outputs": [
    {
     "data": {
      "text/plain": [
       "0      1970-01-01 00:00:00.000000048\n",
       "1      1970-01-01 00:00:00.000000034\n",
       "2      1970-01-01 00:00:00.000000028\n",
       "3      1970-01-01 00:00:00.000000030\n",
       "4      1970-01-01 00:00:00.000000032\n",
       "5      1970-01-01 00:00:00.000000019\n",
       "6      1970-01-01 00:00:00.000000027\n",
       "7      1970-01-01 00:00:00.000000021\n",
       "8      1970-01-01 00:00:00.000000041\n",
       "9      1970-01-01 00:00:00.000000034\n",
       "10     1970-01-01 00:00:00.000000026\n",
       "11     1970-01-01 00:00:00.000000033\n",
       "12     1970-01-01 00:00:00.000000028\n",
       "13     1970-01-01 00:00:00.000000041\n",
       "14     1970-01-01 00:00:00.000000030\n",
       "15     1970-01-01 00:00:00.000000046\n",
       "16     1970-01-01 00:00:00.000000046\n",
       "17     1970-01-01 00:00:00.000000044\n",
       "18     1970-01-01 00:00:00.000000052\n",
       "19     1970-01-01 00:00:00.000000063\n",
       "20     1970-01-01 00:00:00.000000059\n",
       "21     1970-01-01 00:00:00.000000053\n",
       "22     1970-01-01 00:00:00.000000063\n",
       "23     1970-01-01 00:00:00.000000057\n",
       "24     1970-01-01 00:00:00.000000055\n",
       "25     1970-01-01 00:00:00.000000042\n",
       "26     1970-01-01 00:00:00.000000050\n",
       "27     1970-01-01 00:00:00.000000062\n",
       "28     1970-01-01 00:00:00.000000048\n",
       "29     1970-01-01 00:00:00.000000055\n",
       "                    ...             \n",
       "4527   1970-01-01 00:00:00.000000042\n",
       "4528   1970-01-01 00:00:00.000000046\n",
       "4529   1970-01-01 00:00:00.000000026\n",
       "4530   1970-01-01 00:00:00.000000046\n",
       "4531   1970-01-01 00:00:00.000000046\n",
       "4532   1970-01-01 00:00:00.000000037\n",
       "4533   1970-01-01 00:00:00.000000030\n",
       "4534   1970-01-01 00:00:00.000000031\n",
       "4535   1970-01-01 00:00:00.000000028\n",
       "4536   1970-01-01 00:00:00.000000026\n",
       "4537   1970-01-01 00:00:00.000000041\n",
       "4538   1970-01-01 00:00:00.000000034\n",
       "4539   1970-01-01 00:00:00.000000037\n",
       "4540   1970-01-01 00:00:00.000000030\n",
       "4541   1970-01-01 00:00:00.000000039\n",
       "4542   1970-01-01 00:00:00.000000039\n",
       "4543   1970-01-01 00:00:00.000000042\n",
       "4544   1970-01-01 00:00:00.000000032\n",
       "4545   1970-01-01 00:00:00.000000027\n",
       "4546   1970-01-01 00:00:00.000000057\n",
       "4547   1970-01-01 00:00:00.000000035\n",
       "4548   1970-01-01 00:00:00.000000039\n",
       "4549   1970-01-01 00:00:00.000000061\n",
       "4550   1970-01-01 00:00:00.000000046\n",
       "4551   1970-01-01 00:00:00.000000060\n",
       "4552   1970-01-01 00:00:00.000000064\n",
       "4553   1970-01-01 00:00:00.000000057\n",
       "4554   1970-01-01 00:00:00.000000068\n",
       "4555   1970-01-01 00:00:00.000000072\n",
       "4556   1970-01-01 00:00:00.000000071\n",
       "Name: temperaturemin, Length: 4557, dtype: datetime64[ns]"
      ]
     },
     "execution_count": 69,
     "metadata": {},
     "output_type": "execute_result"
    }
   ],
   "source": [
    "pandas.to_datetime(dataframe.iloc[:,1])"
   ]
  },
  {
   "cell_type": "code",
   "execution_count": 74,
   "metadata": {},
   "outputs": [
    {
     "name": "stdout",
     "output_type": "stream",
     "text": [
      "0      2007-01-13\n",
      "1      2007-01-19\n",
      "2      2007-01-21\n",
      "3      2007-01-25\n",
      "4      2007-01-27\n",
      "5      2007-02-05\n",
      "6      2007-02-08\n",
      "7      2007-02-09\n",
      "8      2007-02-26\n",
      "9      2007-03-04\n",
      "10     2007-03-05\n",
      "11     2007-03-17\n",
      "12     2007-03-18\n",
      "13     2007-04-05\n",
      "14     2007-04-06\n",
      "15     2007-04-11\n",
      "16     2007-04-17\n",
      "17     2007-04-19\n",
      "18     2007-04-23\n",
      "19     2007-04-27\n",
      "20     2007-04-28\n",
      "21     2007-04-29\n",
      "22     2007-05-02\n",
      "23     2007-05-03\n",
      "24     2007-05-05\n",
      "25     2007-05-07\n",
      "26     2007-05-08\n",
      "27     2007-05-16\n",
      "28     2007-05-18\n",
      "29     2007-05-25\n",
      "          ...    \n",
      "4527   2018-12-15\n",
      "4528   2018-12-21\n",
      "4529   2018-12-25\n",
      "4530   2019-01-04\n",
      "4531   2019-01-08\n",
      "4532   2019-01-09\n",
      "4533   2019-01-12\n",
      "4534   2019-01-14\n",
      "4535   2019-01-15\n",
      "4536   2019-01-20\n",
      "4537   2019-02-12\n",
      "4538   2019-02-17\n",
      "4539   2019-02-18\n",
      "4540   2019-02-26\n",
      "4541   2019-02-27\n",
      "4542   2019-03-01\n",
      "4543   2019-03-03\n",
      "4544   2019-03-05\n",
      "4545   2019-03-06\n",
      "4546   2019-03-15\n",
      "4547   2019-03-17\n",
      "4548   2019-03-26\n",
      "4549   2019-04-09\n",
      "4550   2019-04-23\n",
      "4551   2019-05-06\n",
      "4552   2019-05-12\n",
      "4553   2019-05-13\n",
      "4554   2019-05-24\n",
      "4555   2019-05-26\n",
      "4556   2019-06-08\n",
      "Name: date, Length: 4557, dtype: datetime64[ns]\n"
     ]
    }
   ],
   "source": [
    "print(__)"
   ]
  },
  {
   "cell_type": "code",
   "execution_count": 89,
   "metadata": {},
   "outputs": [
    {
     "data": {
      "text/html": [
       "<div>\n",
       "<style scoped>\n",
       "    .dataframe tbody tr th:only-of-type {\n",
       "        vertical-align: middle;\n",
       "    }\n",
       "\n",
       "    .dataframe tbody tr th {\n",
       "        vertical-align: top;\n",
       "    }\n",
       "\n",
       "    .dataframe thead th {\n",
       "        text-align: right;\n",
       "    }\n",
       "</style>\n",
       "<table border=\"1\" class=\"dataframe\">\n",
       "  <thead>\n",
       "    <tr style=\"text-align: right;\">\n",
       "      <th></th>\n",
       "      <th>date</th>\n",
       "      <th>temperaturemin</th>\n",
       "      <th>temperaturemax</th>\n",
       "      <th>precipitation</th>\n",
       "      <th>snowfall</th>\n",
       "      <th>snowdepth</th>\n",
       "      <th>avgwindspeed</th>\n",
       "      <th>fastest2minwinddir</th>\n",
       "      <th>fastest2minwindspeed</th>\n",
       "      <th>fastest5secwinddir</th>\n",
       "      <th>...</th>\n",
       "      <th>drizzle</th>\n",
       "      <th>snow</th>\n",
       "      <th>freezingrain</th>\n",
       "      <th>smokehaze</th>\n",
       "      <th>thunder</th>\n",
       "      <th>highwind</th>\n",
       "      <th>hail</th>\n",
       "      <th>blowingsnow</th>\n",
       "      <th>dust</th>\n",
       "      <th>freezingfog</th>\n",
       "    </tr>\n",
       "  </thead>\n",
       "  <tbody>\n",
       "    <tr>\n",
       "      <th>0</th>\n",
       "      <td>2007-01-13</td>\n",
       "      <td>48.0</td>\n",
       "      <td>69.1</td>\n",
       "      <td>0.0</td>\n",
       "      <td>0.0</td>\n",
       "      <td>0.0</td>\n",
       "      <td>6.93</td>\n",
       "      <td>230.0</td>\n",
       "      <td>17.0</td>\n",
       "      <td>230.0</td>\n",
       "      <td>...</td>\n",
       "      <td>No</td>\n",
       "      <td>No</td>\n",
       "      <td>No</td>\n",
       "      <td>No</td>\n",
       "      <td>No</td>\n",
       "      <td>No</td>\n",
       "      <td>No</td>\n",
       "      <td>No</td>\n",
       "      <td>No</td>\n",
       "      <td>No</td>\n",
       "    </tr>\n",
       "  </tbody>\n",
       "</table>\n",
       "<p>1 rows × 28 columns</p>\n",
       "</div>"
      ],
      "text/plain": [
       "        date  temperaturemin  temperaturemax  precipitation  snowfall  \\\n",
       "0 2007-01-13            48.0            69.1            0.0       0.0   \n",
       "\n",
       "   snowdepth  avgwindspeed  fastest2minwinddir  fastest2minwindspeed  \\\n",
       "0        0.0          6.93               230.0                  17.0   \n",
       "\n",
       "   fastest5secwinddir  ...  drizzle snow freezingrain smokehaze thunder  \\\n",
       "0               230.0  ...       No   No           No        No      No   \n",
       "\n",
       "  highwind hail blowingsnow dust freezingfog  \n",
       "0       No   No          No   No          No  \n",
       "\n",
       "[1 rows x 28 columns]"
      ]
     },
     "execution_count": 89,
     "metadata": {},
     "output_type": "execute_result"
    }
   ],
   "source": [
    "dataframe.head(1)\n"
   ]
  },
  {
   "cell_type": "code",
   "execution_count": 93,
   "metadata": {},
   "outputs": [
    {
     "data": {
      "text/plain": [
       "16.504624380983373"
      ]
     },
     "execution_count": 93,
     "metadata": {},
     "output_type": "execute_result"
    }
   ],
   "source": [
    "dataframe.iloc[:,2].std()\n"
   ]
  },
  {
   "cell_type": "code",
   "execution_count": 92,
   "metadata": {},
   "outputs": [
    {
     "data": {
      "text/plain": [
       "0.3729381456721012"
      ]
     },
     "execution_count": 92,
     "metadata": {},
     "output_type": "execute_result"
    }
   ],
   "source": [
    "dataframe.iloc[:,3].std()"
   ]
  },
  {
   "cell_type": "code",
   "execution_count": 94,
   "metadata": {},
   "outputs": [
    {
     "data": {
      "text/plain": [
       "0.1297563652326602"
      ]
     },
     "execution_count": 94,
     "metadata": {},
     "output_type": "execute_result"
    }
   ],
   "source": [
    "dataframe.iloc[:,3].mean()"
   ]
  },
  {
   "cell_type": "code",
   "execution_count": null,
   "metadata": {},
   "outputs": [],
   "source": []
  }
 ],
 "metadata": {
  "kernelspec": {
   "display_name": "Python 3",
   "language": "python",
   "name": "python3"
  },
  "language_info": {
   "codemirror_mode": {
    "name": "ipython",
    "version": 3
   },
   "file_extension": ".py",
   "mimetype": "text/x-python",
   "name": "python",
   "nbconvert_exporter": "python",
   "pygments_lexer": "ipython3",
   "version": "3.7.3"
  }
 },
 "nbformat": 4,
 "nbformat_minor": 2
}
