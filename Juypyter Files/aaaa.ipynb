{
 "cells": [
  {
   "cell_type": "code",
   "execution_count": 11,
   "metadata": {},
   "outputs": [],
   "source": [
    "# define function to convert inches to millimeters\n",
    "def in_to_mm(x):\n",
    "    \n",
    "    # multiply an input parameter by 25.4 to convert from inches to millimeters\n",
    "    # function can take a single value, single value variable, or numpy array as input\n",
    "    # function can not take list or pandas dataframe as input\n",
    "    # returns values multiplied by 25.4\n",
    "    \n",
    "    return (x * 25.4)\n",
    "\n",
    "\n",
    "# define function to calculate mean across columns of two-dimensional numpy array\n",
    "def mean_stats_columns(array):\n",
    "\n",
    "    # calculate mean of two-dimensional numpy array for each column\n",
    "    # function can take a numpy array as input\n",
    "    # function can not take list or pandas dataframe as input\n",
    "    # returns the mean of each column (axis = 0)\n",
    "    \n",
    "    stat_mean_column = np.mean(array, axis = 0)\n",
    "    return(stat_mean_column)"
   ]
  },
  {
   "cell_type": "code",
   "execution_count": 12,
   "metadata": {},
   "outputs": [],
   "source": [
    "# import necessary package\n",
    "import numpy as np"
   ]
  },
  {
   "cell_type": "code",
   "execution_count": 14,
   "metadata": {},
   "outputs": [],
   "source": [
    "# manually create a new numpy array for monthly precip in 2002 and 2003 for Boulder, CO\n",
    "monthly_precip_2002_2003_in = np.array([[1.07, 0.44, 1.50, 0.20, 3.20, 1.18, 0.09, 1.44, 1.521, 2.44, 0.78, 0.02], \n",
    "                                         [0.09, 1.52, 5.44, 2.99, 2.62, 2.69, 0.71, 3.52, 0.35, 0.45, 0.80, 0.84]])"
   ]
  },
  {
   "cell_type": "code",
   "execution_count": 15,
   "metadata": {},
   "outputs": [
    {
     "data": {
      "text/plain": [
       "array([[ 27.178 ,  11.176 ,  38.1   ,   5.08  ,  81.28  ,  29.972 ,\n",
       "          2.286 ,  36.576 ,  38.6334,  61.976 ,  19.812 ,   0.508 ],\n",
       "       [  2.286 ,  38.608 , 138.176 ,  75.946 ,  66.548 ,  68.326 ,\n",
       "         18.034 ,  89.408 ,   8.89  ,  11.43  ,  20.32  ,  21.336 ]])"
      ]
     },
     "execution_count": 15,
     "metadata": {},
     "output_type": "execute_result"
    }
   ],
   "source": [
    "monthly_precip_2002_2003_mm"
   ]
  },
  {
   "cell_type": "code",
   "execution_count": 16,
   "metadata": {},
   "outputs": [],
   "source": [
    "# call the function mean_stats_columns with input parameter\n",
    "mean_monthly_precip_2002_2003_mm = np.array(mean_stats_columns(monthly_precip_2002_2003_mm))\n"
   ]
  },
  {
   "cell_type": "code",
   "execution_count": 17,
   "metadata": {},
   "outputs": [
    {
     "data": {
      "text/plain": [
       "array([14.732 , 24.892 , 88.138 , 40.513 , 73.914 , 49.149 , 10.16  ,\n",
       "       62.992 , 23.7617, 36.703 , 20.066 , 10.922 ])"
      ]
     },
     "execution_count": 17,
     "metadata": {},
     "output_type": "execute_result"
    }
   ],
   "source": [
    "mean_monthly_precip_2002_2003_mm"
   ]
  },
  {
   "cell_type": "code",
   "execution_count": 18,
   "metadata": {},
   "outputs": [],
   "source": [
    "def num_missing(x):\n",
    "  return sum(x.isnull())"
   ]
  },
  {
   "cell_type": "code",
   "execution_count": 20,
   "metadata": {},
   "outputs": [
    {
     "ename": "SyntaxError",
     "evalue": "invalid syntax (<ipython-input-20-2ae8b6d871cd>, line 1)",
     "output_type": "error",
     "traceback": [
      "\u001b[1;36m  File \u001b[1;32m\"<ipython-input-20-2ae8b6d871cd>\"\u001b[1;36m, line \u001b[1;32m1\u001b[0m\n\u001b[1;33m    print np.apply(num_missing, axis=0)\u001b[0m\n\u001b[1;37m           ^\u001b[0m\n\u001b[1;31mSyntaxError\u001b[0m\u001b[1;31m:\u001b[0m invalid syntax\n"
     ]
    }
   ],
   "source": [
    "print np.apply(num_missing, axis=0) \n",
    "#axis=0 defines that function is to be applied on each column"
   ]
  },
  {
   "cell_type": "code",
   "execution_count": null,
   "metadata": {},
   "outputs": [],
   "source": []
  }
 ],
 "metadata": {
  "kernelspec": {
   "display_name": "Python 3",
   "language": "python",
   "name": "python3"
  },
  "language_info": {
   "codemirror_mode": {
    "name": "ipython",
    "version": 3
   },
   "file_extension": ".py",
   "mimetype": "text/x-python",
   "name": "python",
   "nbconvert_exporter": "python",
   "pygments_lexer": "ipython3",
   "version": "3.7.3"
  }
 },
 "nbformat": 4,
 "nbformat_minor": 2
}
